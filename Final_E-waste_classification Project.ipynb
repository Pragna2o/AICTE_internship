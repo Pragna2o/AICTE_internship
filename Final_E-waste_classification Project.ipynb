{
  "nbformat": 4,
  "nbformat_minor": 0,
  "metadata": {
    "colab": {
      "provenance": []
    },
    "kernelspec": {
      "name": "python3",
      "display_name": "Python 3"
    },
    "language_info": {
      "name": "python"
    }
  },
  "cells": [
    {
      "cell_type": "code",
      "execution_count": 44,
      "metadata": {
        "colab": {
          "base_uri": "https://localhost:8080/"
        },
        "id": "TvRUuLYutkco",
        "outputId": "7fc248b7-d9ae-4b0e-b0dd-078931a3a709"
      },
      "outputs": [
        {
          "output_type": "stream",
          "name": "stdout",
          "text": [
            "Requirement already satisfied: torchcam in /usr/local/lib/python3.11/dist-packages (0.4.0)\n",
            "Requirement already satisfied: torch<3.0.0,>=2.0.0 in /usr/local/lib/python3.11/dist-packages (from torchcam) (2.6.0+cu124)\n",
            "Requirement already satisfied: numpy<2.0.0,>=1.17.2 in /usr/local/lib/python3.11/dist-packages (from torchcam) (1.26.4)\n",
            "Requirement already satisfied: Pillow!=9.2.0,>=8.4.0 in /usr/local/lib/python3.11/dist-packages (from torchcam) (11.2.1)\n",
            "Requirement already satisfied: matplotlib<4.0.0,>=3.7.0 in /usr/local/lib/python3.11/dist-packages (from torchcam) (3.10.0)\n",
            "Requirement already satisfied: contourpy>=1.0.1 in /usr/local/lib/python3.11/dist-packages (from matplotlib<4.0.0,>=3.7.0->torchcam) (1.3.2)\n",
            "Requirement already satisfied: cycler>=0.10 in /usr/local/lib/python3.11/dist-packages (from matplotlib<4.0.0,>=3.7.0->torchcam) (0.12.1)\n",
            "Requirement already satisfied: fonttools>=4.22.0 in /usr/local/lib/python3.11/dist-packages (from matplotlib<4.0.0,>=3.7.0->torchcam) (4.58.4)\n",
            "Requirement already satisfied: kiwisolver>=1.3.1 in /usr/local/lib/python3.11/dist-packages (from matplotlib<4.0.0,>=3.7.0->torchcam) (1.4.8)\n",
            "Requirement already satisfied: packaging>=20.0 in /usr/local/lib/python3.11/dist-packages (from matplotlib<4.0.0,>=3.7.0->torchcam) (24.2)\n",
            "Requirement already satisfied: pyparsing>=2.3.1 in /usr/local/lib/python3.11/dist-packages (from matplotlib<4.0.0,>=3.7.0->torchcam) (3.2.3)\n",
            "Requirement already satisfied: python-dateutil>=2.7 in /usr/local/lib/python3.11/dist-packages (from matplotlib<4.0.0,>=3.7.0->torchcam) (2.9.0.post0)\n",
            "Requirement already satisfied: filelock in /usr/local/lib/python3.11/dist-packages (from torch<3.0.0,>=2.0.0->torchcam) (3.18.0)\n",
            "Requirement already satisfied: typing-extensions>=4.10.0 in /usr/local/lib/python3.11/dist-packages (from torch<3.0.0,>=2.0.0->torchcam) (4.14.0)\n",
            "Requirement already satisfied: networkx in /usr/local/lib/python3.11/dist-packages (from torch<3.0.0,>=2.0.0->torchcam) (3.5)\n",
            "Requirement already satisfied: jinja2 in /usr/local/lib/python3.11/dist-packages (from torch<3.0.0,>=2.0.0->torchcam) (3.1.6)\n",
            "Requirement already satisfied: fsspec in /usr/local/lib/python3.11/dist-packages (from torch<3.0.0,>=2.0.0->torchcam) (2025.3.2)\n",
            "Requirement already satisfied: nvidia-cuda-nvrtc-cu12==12.4.127 in /usr/local/lib/python3.11/dist-packages (from torch<3.0.0,>=2.0.0->torchcam) (12.4.127)\n",
            "Requirement already satisfied: nvidia-cuda-runtime-cu12==12.4.127 in /usr/local/lib/python3.11/dist-packages (from torch<3.0.0,>=2.0.0->torchcam) (12.4.127)\n",
            "Requirement already satisfied: nvidia-cuda-cupti-cu12==12.4.127 in /usr/local/lib/python3.11/dist-packages (from torch<3.0.0,>=2.0.0->torchcam) (12.4.127)\n",
            "Requirement already satisfied: nvidia-cudnn-cu12==9.1.0.70 in /usr/local/lib/python3.11/dist-packages (from torch<3.0.0,>=2.0.0->torchcam) (9.1.0.70)\n",
            "Requirement already satisfied: nvidia-cublas-cu12==12.4.5.8 in /usr/local/lib/python3.11/dist-packages (from torch<3.0.0,>=2.0.0->torchcam) (12.4.5.8)\n",
            "Requirement already satisfied: nvidia-cufft-cu12==11.2.1.3 in /usr/local/lib/python3.11/dist-packages (from torch<3.0.0,>=2.0.0->torchcam) (11.2.1.3)\n",
            "Requirement already satisfied: nvidia-curand-cu12==10.3.5.147 in /usr/local/lib/python3.11/dist-packages (from torch<3.0.0,>=2.0.0->torchcam) (10.3.5.147)\n",
            "Requirement already satisfied: nvidia-cusolver-cu12==11.6.1.9 in /usr/local/lib/python3.11/dist-packages (from torch<3.0.0,>=2.0.0->torchcam) (11.6.1.9)\n",
            "Requirement already satisfied: nvidia-cusparse-cu12==12.3.1.170 in /usr/local/lib/python3.11/dist-packages (from torch<3.0.0,>=2.0.0->torchcam) (12.3.1.170)\n",
            "Requirement already satisfied: nvidia-cusparselt-cu12==0.6.2 in /usr/local/lib/python3.11/dist-packages (from torch<3.0.0,>=2.0.0->torchcam) (0.6.2)\n",
            "Requirement already satisfied: nvidia-nccl-cu12==2.21.5 in /usr/local/lib/python3.11/dist-packages (from torch<3.0.0,>=2.0.0->torchcam) (2.21.5)\n",
            "Requirement already satisfied: nvidia-nvtx-cu12==12.4.127 in /usr/local/lib/python3.11/dist-packages (from torch<3.0.0,>=2.0.0->torchcam) (12.4.127)\n",
            "Requirement already satisfied: nvidia-nvjitlink-cu12==12.4.127 in /usr/local/lib/python3.11/dist-packages (from torch<3.0.0,>=2.0.0->torchcam) (12.4.127)\n",
            "Requirement already satisfied: triton==3.2.0 in /usr/local/lib/python3.11/dist-packages (from torch<3.0.0,>=2.0.0->torchcam) (3.2.0)\n",
            "Requirement already satisfied: sympy==1.13.1 in /usr/local/lib/python3.11/dist-packages (from torch<3.0.0,>=2.0.0->torchcam) (1.13.1)\n",
            "Requirement already satisfied: mpmath<1.4,>=1.1.0 in /usr/local/lib/python3.11/dist-packages (from sympy==1.13.1->torch<3.0.0,>=2.0.0->torchcam) (1.3.0)\n",
            "Requirement already satisfied: six>=1.5 in /usr/local/lib/python3.11/dist-packages (from python-dateutil>=2.7->matplotlib<4.0.0,>=3.7.0->torchcam) (1.17.0)\n",
            "Requirement already satisfied: MarkupSafe>=2.0 in /usr/local/lib/python3.11/dist-packages (from jinja2->torch<3.0.0,>=2.0.0->torchcam) (3.0.2)\n",
            "Requirement already satisfied: onnx in /usr/local/lib/python3.11/dist-packages (1.18.0)\n",
            "Requirement already satisfied: numpy>=1.22 in /usr/local/lib/python3.11/dist-packages (from onnx) (1.26.4)\n",
            "Requirement already satisfied: protobuf>=4.25.1 in /usr/local/lib/python3.11/dist-packages (from onnx) (5.29.5)\n",
            "Requirement already satisfied: typing_extensions>=4.7.1 in /usr/local/lib/python3.11/dist-packages (from onnx) (4.14.0)\n"
          ]
        }
      ],
      "source": [
        "import os\n",
        "!pip install torchcam\n",
        "!pip install onnx\n",
        "import torch\n",
        "import torch.nn as nn\n",
        "import torch.optim as optim\n",
        "from torchvision import datasets, transforms, models\n",
        "from torch.utils.data import DataLoader\n",
        "from sklearn.metrics import classification_report, confusion_matrix\n",
        "import seaborn as sns\n",
        "import matplotlib.pyplot as plt\n",
        "import numpy as np\n",
        "import zipfile\n",
        "from torchvision.transforms.functional import to_pil_image\n",
        "from torchcam.methods import GradCAM\n",
        "from torchcam.utils import overlay_mask\n",
        "import gradio as gr\n"
      ]
    },
    {
      "cell_type": "code",
      "source": [
        "# =============================\n",
        "# Device Setup\n",
        "# =============================\n",
        "device = torch.device(\"cuda\" if torch.cuda.is_available() else \"cpu\")"
      ],
      "metadata": {
        "id": "7EPxQjdAtvNb"
      },
      "execution_count": 43,
      "outputs": []
    },
    {
      "cell_type": "code",
      "source": [
        "from google.colab import drive\n",
        "drive.mount('/content/drive')"
      ],
      "metadata": {
        "colab": {
          "base_uri": "https://localhost:8080/"
        },
        "id": "Wt1QOs5x4LD1",
        "outputId": "eff0c0a7-6546-4250-bdf7-0bea70af9581"
      },
      "execution_count": 46,
      "outputs": [
        {
          "output_type": "stream",
          "name": "stdout",
          "text": [
            "Drive already mounted at /content/drive; to attempt to forcibly remount, call drive.mount(\"/content/drive\", force_remount=True).\n"
          ]
        }
      ]
    },
    {
      "cell_type": "code",
      "source": [
        "# --- Dataset Extraction ---\n",
        "zip_path = \"/content/drive/MyDrive/E-Waste classification dataset.zip\"\n",
        "extract_path = \"/content/E-Waste classification dataset\"\n",
        "\n",
        "# Ensure the directory exists\n",
        "os.makedirs(extract_path, exist_ok=True)\n",
        "\n",
        "with zipfile.ZipFile(zip_path, 'r') as zip_ref:\n",
        "    zip_ref.extractall(extract_path)"
      ],
      "metadata": {
        "id": "HeTUHoBO4QAx"
      },
      "execution_count": 47,
      "outputs": []
    },
    {
      "cell_type": "code",
      "source": [
        "# =============================\n",
        "# Paths (update these)\n",
        "# =============================\n",
        "train_dir = \"/content/E-Waste classification dataset/modified-dataset/train\"\n",
        "val_dir = \"/content/E-Waste classification dataset/modified-dataset/val\"\n",
        "test_dir = \"/content/E-Waste classification dataset/modified-dataset/test\""
      ],
      "metadata": {
        "id": "GoxKe1C8twC2"
      },
      "execution_count": 81,
      "outputs": []
    },
    {
      "cell_type": "code",
      "source": [
        "# Datasets and Loaders\n",
        "train_dataset = datasets.ImageFolder(train_dir, transform=transform_train)\n",
        "val_dataset = datasets.ImageFolder(val_dir, transform=transform_eval)\n",
        "test_dataset = datasets.ImageFolder(test_dir, transform=transform_eval)\n",
        "\n",
        "train_loader = DataLoader(train_dataset, batch_size=32, shuffle=True)\n",
        "val_loader = DataLoader(val_dataset, batch_size=32)\n",
        "test_loader = DataLoader(test_dataset, batch_size=32)\n"
      ],
      "metadata": {
        "id": "ySqGnoxBt0P8"
      },
      "execution_count": 82,
      "outputs": []
    },
    {
      "cell_type": "code",
      "source": [
        "num_classes = len(train_dataset.classes)\n",
        "num_classes"
      ],
      "metadata": {
        "colab": {
          "base_uri": "https://localhost:8080/"
        },
        "id": "-xMfPWs1e4fo",
        "outputId": "feeb4e40-c5cc-4520-90c7-c0d57e13ec20"
      },
      "execution_count": 83,
      "outputs": [
        {
          "output_type": "execute_result",
          "data": {
            "text/plain": [
              "10"
            ]
          },
          "metadata": {},
          "execution_count": 83
        }
      ]
    },
    {
      "cell_type": "code",
      "source": [
        "class_names = train_dataset.classes\n",
        "class_names"
      ],
      "metadata": {
        "colab": {
          "base_uri": "https://localhost:8080/"
        },
        "id": "EYagqh9ZBFxd",
        "outputId": "47bc5007-7046-4f7d-fda2-54c407cd40ae"
      },
      "execution_count": 51,
      "outputs": [
        {
          "output_type": "execute_result",
          "data": {
            "text/plain": [
              "['Battery',\n",
              " 'Keyboard',\n",
              " 'Microwave',\n",
              " 'Mobile',\n",
              " 'Mouse',\n",
              " 'PCB',\n",
              " 'Player',\n",
              " 'Printer',\n",
              " 'Television',\n",
              " 'Washing Machine']"
            ]
          },
          "metadata": {},
          "execution_count": 51
        }
      ]
    },
    {
      "cell_type": "code",
      "source": [
        "# Load Pretrained MobileNetV3\n",
        "model = models.mobilenet_v3_small(pretrained=True)\n",
        "model.classifier[3] = nn.Linear(model.classifier[3].in_features, num_classes)\n",
        "model = model.to(device)\n",
        "\n"
      ],
      "metadata": {
        "id": "WEB7L2zst7uz"
      },
      "execution_count": 52,
      "outputs": []
    },
    {
      "cell_type": "code",
      "source": [
        "# Loss, Optimizer, Scheduler\n",
        "criterion = nn.CrossEntropyLoss()\n",
        "optimizer = optim.Adam(model.parameters(), lr=0.001)\n",
        "scheduler = optim.lr_scheduler.ReduceLROnPlateau(optimizer, patience=2, factor=0.5)"
      ],
      "metadata": {
        "id": "MwZuHvkMOFKA"
      },
      "execution_count": 53,
      "outputs": []
    },
    {
      "cell_type": "code",
      "source": [
        "# Training Function\n",
        "def train_model(model, criterion, optimizer, scheduler, num_epochs=15):\n",
        "    best_model_wts = model.state_dict()\n",
        "    best_acc = 0.0\n",
        "\n",
        "    for epoch in range(num_epochs):\n",
        "        print(f\"Epoch {epoch+1}/{num_epochs}\")\n",
        "        for phase in ['train', 'val']:\n",
        "            if phase == 'train':\n",
        "                model.train()\n",
        "                dataloader = train_loader\n",
        "            else:\n",
        "                model.eval()\n",
        "                dataloader = val_loader\n",
        "\n",
        "            running_loss = 0.0\n",
        "            running_corrects = 0\n",
        "\n",
        "            for inputs, labels in dataloader:\n",
        "                inputs = inputs.to(device)\n",
        "                labels = labels.to(device)\n",
        "\n",
        "                optimizer.zero_grad()\n",
        "\n",
        "                with torch.set_grad_enabled(phase == 'train'):\n",
        "                    outputs = model(inputs)\n",
        "                    _, preds = torch.max(outputs, 1)\n",
        "                    loss = criterion(outputs, labels)\n",
        "                    if phase == 'train':\n",
        "                        loss.backward()\n",
        "                        optimizer.step()\n",
        "\n",
        "                running_loss += loss.item() * inputs.size(0)\n",
        "                running_corrects += torch.sum(preds == labels.data)\n",
        "\n",
        "            epoch_loss = running_loss / len(dataloader.dataset)\n",
        "            epoch_acc = running_corrects.double() / len(dataloader.dataset)\n",
        "            print(f\"{phase} Loss: {epoch_loss:.4f} Acc: {epoch_acc:.4f}\")\n",
        "\n",
        "            if phase == 'val':\n",
        "                scheduler.step(epoch_loss)\n",
        "                if epoch_acc > best_acc:\n",
        "                    best_acc = epoch_acc\n",
        "                    best_model_wts = model.state_dict()\n",
        "\n",
        "    print(f\"Best Validation Accuracy: {best_acc:.4f}\")\n",
        "    model.load_state_dict(best_model_wts)\n",
        "    return model"
      ],
      "metadata": {
        "id": "eFG722cJt__C"
      },
      "execution_count": 54,
      "outputs": []
    },
    {
      "cell_type": "code",
      "source": [
        "# Train the Model\n",
        "model = train_model(model, criterion, optimizer, scheduler)"
      ],
      "metadata": {
        "colab": {
          "base_uri": "https://localhost:8080/"
        },
        "id": "Vb714XtqOKfT",
        "outputId": "964492d4-346c-41bd-8ef9-24b3bd6e7ea3"
      },
      "execution_count": 55,
      "outputs": [
        {
          "output_type": "stream",
          "name": "stdout",
          "text": [
            "Epoch 1/15\n",
            "train Loss: 0.8611 Acc: 0.7146\n",
            "val Loss: 0.9196 Acc: 0.7500\n",
            "Epoch 2/15\n",
            "train Loss: 0.3382 Acc: 0.8833\n",
            "val Loss: 0.3306 Acc: 0.8833\n",
            "Epoch 3/15\n",
            "train Loss: 0.2540 Acc: 0.9250\n",
            "val Loss: 0.3306 Acc: 0.9067\n",
            "Epoch 4/15\n",
            "train Loss: 0.1493 Acc: 0.9508\n",
            "val Loss: 0.2822 Acc: 0.9100\n",
            "Epoch 5/15\n",
            "train Loss: 0.1374 Acc: 0.9563\n",
            "val Loss: 0.4273 Acc: 0.8700\n",
            "Epoch 6/15\n",
            "train Loss: 0.1387 Acc: 0.9546\n",
            "val Loss: 0.3350 Acc: 0.9167\n",
            "Epoch 7/15\n",
            "train Loss: 0.1468 Acc: 0.9554\n",
            "val Loss: 0.3932 Acc: 0.8833\n",
            "Epoch 8/15\n",
            "train Loss: 0.0792 Acc: 0.9712\n",
            "val Loss: 0.2496 Acc: 0.9333\n",
            "Epoch 9/15\n",
            "train Loss: 0.0341 Acc: 0.9867\n",
            "val Loss: 0.2322 Acc: 0.9300\n",
            "Epoch 10/15\n",
            "train Loss: 0.0256 Acc: 0.9929\n",
            "val Loss: 0.2553 Acc: 0.9367\n",
            "Epoch 11/15\n",
            "train Loss: 0.0297 Acc: 0.9938\n",
            "val Loss: 0.2786 Acc: 0.9200\n",
            "Epoch 12/15\n",
            "train Loss: 0.0279 Acc: 0.9921\n",
            "val Loss: 0.2920 Acc: 0.9300\n",
            "Epoch 13/15\n",
            "train Loss: 0.0221 Acc: 0.9950\n",
            "val Loss: 0.2895 Acc: 0.9200\n",
            "Epoch 14/15\n",
            "train Loss: 0.0085 Acc: 0.9975\n",
            "val Loss: 0.2853 Acc: 0.9267\n",
            "Epoch 15/15\n",
            "train Loss: 0.0205 Acc: 0.9942\n",
            "val Loss: 0.2633 Acc: 0.9300\n",
            "Best Validation Accuracy: 0.9367\n"
          ]
        }
      ]
    },
    {
      "cell_type": "code",
      "source": [
        "# Confusion Matrix & Report\n",
        "def evaluate_detailed(model, loader, class_names):\n",
        "    model.eval()\n",
        "    all_preds = []\n",
        "    all_labels = []\n",
        "\n",
        "    with torch.no_grad():\n",
        "        for inputs, labels in loader:\n",
        "            inputs, labels = inputs.to(device), labels.to(device)\n",
        "            outputs = model(inputs)\n",
        "            _, preds = torch.max(outputs, 1)\n",
        "            all_preds.extend(preds.cpu().numpy())\n",
        "            all_labels.extend(labels.cpu().numpy())\n",
        "\n",
        "    print(\"\\nClassification Report:\\n\")\n",
        "    print(classification_report(all_labels, all_preds, target_names=class_names))\n",
        "    cm = confusion_matrix(all_labels, all_preds)\n",
        "    plt.figure(figsize=(8, 6))\n",
        "    sns.heatmap(cm, annot=True, fmt=\"d\", xticklabels=class_names, yticklabels=class_names, cmap=\"Greens\")\n",
        "    plt.xlabel(\"Predicted\")\n",
        "    plt.ylabel(\"True\")\n",
        "    plt.title(\"Confusion Matrix\")\n",
        "    plt.show()\n",
        "\n",
        ""
      ],
      "metadata": {
        "id": "DNGhDdzPuG2e"
      },
      "execution_count": 69,
      "outputs": []
    },
    {
      "cell_type": "code",
      "source": [
        "evaluate_detailed(model, test_loader, class_names)"
      ],
      "metadata": {
        "colab": {
          "base_uri": "https://localhost:8080/",
          "height": 1000
        },
        "id": "fyce78ziM9nP",
        "outputId": "88beac0a-a37b-4a89-9fc9-4082620fd646"
      },
      "execution_count": 70,
      "outputs": [
        {
          "output_type": "stream",
          "name": "stdout",
          "text": [
            "\n",
            "Classification Report:\n",
            "\n",
            "                 precision    recall  f1-score   support\n",
            "\n",
            "        Battery       0.85      0.77      0.81        30\n",
            "       Keyboard       0.97      1.00      0.98        30\n",
            "      Microwave       0.83      1.00      0.91        30\n",
            "         Mobile       0.90      0.90      0.90        30\n",
            "          Mouse       0.83      0.97      0.89        30\n",
            "            PCB       0.90      0.93      0.92        30\n",
            "         Player       0.96      0.80      0.87        30\n",
            "        Printer       0.93      0.87      0.90        30\n",
            "     Television       0.93      0.83      0.88        30\n",
            "Washing Machine       0.97      0.97      0.97        30\n",
            "\n",
            "       accuracy                           0.90       300\n",
            "      macro avg       0.91      0.90      0.90       300\n",
            "   weighted avg       0.91      0.90      0.90       300\n",
            "\n"
          ]
        },
        {
          "output_type": "display_data",
          "data": {
            "text/plain": [
              "<Figure size 800x600 with 2 Axes>"
            ],
            "image/png": "[encoded data removed]"
          },
          "metadata": {}
        }
      ]
    },
    {
      "cell_type": "code",
      "source": [
        "# Grad-CAM Visualization\n",
        "cam_extractor = GradCAM(model, target_layer=\"features.12\")\n",
        "image_tensor, label = test_dataset[0]\n",
        "input_tensor = image_tensor.unsqueeze(0).to(device)\n",
        "\n"
      ],
      "metadata": {
        "id": "Q7hHUtRduMWQ"
      },
      "execution_count": 72,
      "outputs": []
    },
    {
      "cell_type": "code",
      "source": [
        "model.eval()\n",
        "\n",
        "# ✅ Ensure gradients are enabled\n",
        "output = model(input_tensor)  # Don't use torch.no_grad()\n",
        "pred_class = output.argmax(dim=1).item()\n",
        "\n",
        "# ✅ Generate Grad-CAM (requires gradient tracking)\n",
        "activation_map = cam_extractor(pred_class, output)\n",
        "\n",
        "# ✅ Visualize CAM over the image\n",
        "result = overlay_mask(to_pil_image(image_tensor),\n",
        "                      to_pil_image(activation_map[0].squeeze(0), mode='F'),\n",
        "                      alpha=0.5)\n",
        "result.show()\n"
      ],
      "metadata": {
        "id": "S6_S-u7E8BpR"
      },
      "execution_count": 73,
      "outputs": []
    },
    {
      "cell_type": "code",
      "source": [
        "# Clean up GradCAM extractor if it exists\n",
        "try:\n",
        "    cam_extractor.remove_hooks()  # Cleanly removes registered hooks\n",
        "    del cam_extractor\n",
        "except NameError:\n",
        "    pass  # cam_extractor doesn't exist, safe to continue\n"
      ],
      "metadata": {
        "id": "cTzlIlT1955F"
      },
      "execution_count": 74,
      "outputs": []
    },
    {
      "cell_type": "code",
      "source": [
        "# Re-initialize a clean version of the model (no Grad-CAM, no hooks)\n",
        "model_clean = models.mobilenet_v3_small(pretrained=True)\n",
        "model_clean.classifier[3] = nn.Linear(model_clean.classifier[3].in_features, num_classes)\n",
        "model_clean.load_state_dict(model.state_dict())  # copy trained weights\n",
        "model_clean = model_clean.to(device)\n",
        "model_clean.eval()\n",
        "\n",
        "# Export clean model to TorchScript\n",
        "dummy_input = torch.randn(1, 3, 128, 128).to(device)\n",
        "scripted_model = torch.jit.trace(model_clean, dummy_input)\n",
        "scripted_model.save(\"ewaste_model.pt\")\n",
        "print(\"✅ Saved TorchScript model as ewaste_model.pt (clean)\")\n"
      ],
      "metadata": {
        "colab": {
          "base_uri": "https://localhost:8080/"
        },
        "id": "iX2SQZmP-XME",
        "outputId": "df35bc29-99af-4a16-e8e5-a76fb2725923"
      },
      "execution_count": 75,
      "outputs": [
        {
          "output_type": "stream",
          "name": "stdout",
          "text": [
            "✅ Saved TorchScript model as ewaste_model.pt (clean)\n"
          ]
        }
      ]
    },
    {
      "cell_type": "code",
      "source": [
        "from google.colab import files\n",
        "files.download(\"ewaste_model.pt\")\n"
      ],
      "metadata": {
        "colab": {
          "base_uri": "https://localhost:8080/",
          "height": 17
        },
        "id": "f2bWPHRZCxCA",
        "outputId": "ca7de807-16d7-4f3c-8c3b-c338a36f0c3d"
      },
      "execution_count": 39,
      "outputs": [
        {
          "output_type": "display_data",
          "data": {
            "text/plain": [
              "<IPython.core.display.Javascript object>"
            ],
            "application/javascript": [
              "\n",
              "    async function download(id, filename, size) {\n",
              "      if (!google.colab.kernel.accessAllowed) {\n",
              "        return;\n",
              "      }\n",
              "      const div = document.createElement('div');\n",
              "      const label = document.createElement('label');\n",
              "      label.textContent = `Downloading \"${filename}\": `;\n",
              "      div.appendChild(label);\n",
              "      const progress = document.createElement('progress');\n",
              "      progress.max = size;\n",
              "      div.appendChild(progress);\n",
              "      document.body.appendChild(div);\n",
              "\n",
              "      const buffers = [];\n",
              "      let downloaded = 0;\n",
              "\n",
              "      const channel = await google.colab.kernel.comms.open(id);\n",
              "      // Send a message to notify the kernel that we're ready.\n",
              "      channel.send({})\n",
              "\n",
              "      for await (const message of channel.messages) {\n",
              "        // Send a message to notify the kernel that we're ready.\n",
              "        channel.send({})\n",
              "        if (message.buffers) {\n",
              "          for (const buffer of message.buffers) {\n",
              "            buffers.push(buffer);\n",
              "            downloaded += buffer.byteLength;\n",
              "            progress.value = downloaded;\n",
              "          }\n",
              "        }\n",
              "      }\n",
              "      const blob = new Blob(buffers, {type: 'application/binary'});\n",
              "      const a = document.createElement('a');\n",
              "      a.href = window.URL.createObjectURL(blob);\n",
              "      a.download = filename;\n",
              "      div.appendChild(a);\n",
              "      a.click();\n",
              "      div.remove();\n",
              "    }\n",
              "  "
            ]
          },
          "metadata": {}
        },
        {
          "output_type": "display_data",
          "data": {
            "text/plain": [
              "<IPython.core.display.Javascript object>"
            ],
            "application/javascript": [
              "download(\"download_afe2f056-d804-4bba-bd64-878ec6dfdec5\", \"ewaste_model.pt\", 6596818)"
            ]
          },
          "metadata": {}
        }
      ]
    },
    {
      "cell_type": "markdown",
      "source": [
        "## ✅ E-Waste Classification Deployment\n",
        "\n",
        "The model is deployed using Gradio and TorchScript on Hugging Face.\n",
        "\n",
        "👉 [Click to open the app](https://huggingface.co/spaces/Nuthi-Pragna/e-waste_classification)\n"
      ],
      "metadata": {
        "id": "wqkcoYgEUuVI"
      }
    },
    {
      "cell_type": "code",
      "source": [
        "#or use the link in this cell to open the app\n",
        "from IPython.display import display, HTML\n",
        "\n",
        "display(HTML('''\n",
        "    <a href=\"https://huggingface.co/spaces/Nuthi-Pragna/e-waste_classification\" target=\"_blank\">\n",
        "        <button style=\"font-size:16px;padding:10px 20px;color:white;background-color:#28a745;border:none;border-radius:5px;\">\n",
        "            🚀 Open E-Waste Classifier App\n",
        "        </button>\n",
        "    </a>\n",
        "'''))\n"
      ],
      "metadata": {
        "colab": {
          "base_uri": "https://localhost:8080/",
          "height": 58
        },
        "id": "4jrQNMGXToO4",
        "outputId": "b4dba9c5-7c77-4e9a-bf54-8faec103c629"
      },
      "execution_count": 77,
      "outputs": [
        {
          "output_type": "display_data",
          "data": {
            "text/plain": [
              "<IPython.core.display.HTML object>"
            ],
            "text/html": [
              "\n",
              "    <a href=\"https://huggingface.co/spaces/Nuthi-Pragna/e-waste_classification\" target=\"_blank\">\n",
              "        <button style=\"font-size:16px;padding:10px 20px;color:white;background-color:#28a745;border:none;border-radius:5px;\">\n",
              "            🚀 Open E-Waste Classifier App\n",
              "        </button>\n",
              "    </a>\n"
            ]
          },
          "metadata": {}
        }
      ]
    }
  ]
}